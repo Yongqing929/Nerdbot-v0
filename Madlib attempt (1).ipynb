{
 "cells": [
  {
   "cell_type": "code",
   "execution_count": 1,
   "id": "a8e9c135",
   "metadata": {},
   "outputs": [],
   "source": [
    "from nltk.corpus import wordnet as wn\n",
    "from itertools import chain\n",
    "import random\n",
    "import re\n",
    "from time import sleep"
   ]
  },
  {
   "cell_type": "code",
   "execution_count": 2,
   "id": "6dc95066",
   "metadata": {},
   "outputs": [],
   "source": [
    "def sentence(num):\n",
    "    sen_dict = {0: \"We all _ down here!\",\n",
    "                1: \"BBQ at my house! Everyone's invited, and it's bring your own _ !\",\n",
    "                2: \"Today is a great day for camping! We went in our _ in our little _ .\",\n",
    "                3: \"I once took an arrow to the knee, now I'm _ .\",\n",
    "                4: \"Humpty Dumpty sat on the wall ~\\nHumpty Dumpty had a great fall ~\\nAll the King's _ and all the King's _ ~\\nCouldn't put Humpty together again!\"}\n",
    "    return sen_dict.get(num)"
   ]
  },
  {
   "cell_type": "code",
   "execution_count": 3,
   "id": "827ac12d",
   "metadata": {},
   "outputs": [],
   "source": [
    "def get_response(user_input):\n",
    "    split_message = re.split(r'\\s+|[,;?!.-]\\s*', user_input.lower())\n",
    "    reply = []\n",
    "    for i in split_message:\n",
    "        syn = wn.synsets(i)\n",
    "        lem_list = [i.lemma_names() for i in syn]\n",
    "        filter_list = [j for j in lem_list if [i] != j]\n",
    "        if len(filter_list) == 0:\n",
    "            reply.append(i)\n",
    "        \n",
    "        else:\n",
    "            filter_list = list(chain(*filter_list))\n",
    "            new_words = [j for j in filter_list if i != j][-1]\n",
    "            reply.append(new_words)\n",
    "    return reply"
   ]
  },
  {
   "cell_type": "code",
   "execution_count": 14,
   "id": "f7370957",
   "metadata": {},
   "outputs": [],
   "source": [
    "def start():\n",
    "    print(\"Nerd Bot: Hello user!\\n\")\n",
    "    sleep(1)\n",
    "    print(\"Nerd Bot: Fill in the blanks up with a word for a sentence that I will provide you, and I will also provide my own answer based on yours!\\n\")\n",
    "    sleep(2)\n",
    "    num = random.randrange(4)\n",
    "    response = sentence(num)\n",
    "    print(response)\n",
    "    sleep(1)\n",
    "    user_input = input(\"\\nYour word(s): \")\n",
    "    reply = get_response(user_input)\n",
    "    print(\"\\nNerd Bot: Let's see...\")\n",
    "    sleep(2)\n",
    "    if response.count(\"_\") == 2:\n",
    "        response = response.replace(\"_\", \"{}\").format(reply[0], reply[1])\n",
    "        \n",
    "    else:\n",
    "        response = response.replace(\"_\", \"{}\").format(reply[0])\n",
    "    print()\n",
    "    print(\"Nerd Bot:\\n\")\n",
    "    print(response)\n",
    "    print(\"\\nNerd Bot: ...\")\n",
    "    print(\"\\nNerd Bot: Which one is better?\")"
   ]
  },
  {
   "cell_type": "code",
   "execution_count": 11,
   "id": "59ce5db7",
   "metadata": {},
   "outputs": [
    {
     "name": "stdout",
     "output_type": "stream",
     "text": [
      "Nerd Bot: Hello user!\n",
      "\n",
      "Nerd Bot: Fill in the blanks up with a word for a sentence that I will provide you, and I will also provide my own answer based on yours!\n",
      "\n",
      "We all _ down here!\n",
      "\n",
      "Your word(s): lie\n",
      "\n",
      "Nerd Bot: Let's see...\n",
      "\n",
      "Nerd Bot:\n",
      "\n",
      "We all lie_down down here!\n",
      "\n",
      "Nerd Bot: ...\n",
      "\n",
      "Nerd Bot: Which one is better?\n"
     ]
    }
   ],
   "source": [
    "start()"
   ]
  },
  {
   "cell_type": "code",
   "execution_count": null,
   "id": "45d3d5fe",
   "metadata": {},
   "outputs": [],
   "source": []
  },
  {
   "cell_type": "code",
   "execution_count": null,
   "id": "250cb832",
   "metadata": {},
   "outputs": [],
   "source": []
  }
 ],
 "metadata": {
  "kernelspec": {
   "display_name": "Python 3 (ipykernel)",
   "language": "python",
   "name": "python3"
  },
  "language_info": {
   "codemirror_mode": {
    "name": "ipython",
    "version": 3
   },
   "file_extension": ".py",
   "mimetype": "text/x-python",
   "name": "python",
   "nbconvert_exporter": "python",
   "pygments_lexer": "ipython3",
   "version": "3.9.6"
  }
 },
 "nbformat": 4,
 "nbformat_minor": 5
}
